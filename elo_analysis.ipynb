{
 "cells": [
  {
   "cell_type": "markdown",
   "metadata": {},
   "source": [
    "## Imports"
   ]
  },
  {
   "cell_type": "code",
   "execution_count": 190,
   "metadata": {
    "ExecuteTime": {
     "end_time": "2019-10-13T23:37:17.085456Z",
     "start_time": "2019-10-13T23:37:17.076313Z"
    }
   },
   "outputs": [],
   "source": [
    "import pandas as pd\n",
    "import seaborn as sns\n",
    "import matplotlib.pyplot as plt\n",
    "import statsmodels.api as sm\n",
    "import numpy as np\n",
    "from scipy import stats\n",
    "import math\n",
    "from IPython.core.interactiveshell import InteractiveShell\n",
    "\n",
    "pd.options.display.max_rows = 999\n",
    "#InteractiveShell.ast_node_interactivity = \"all\""
   ]
  },
  {
   "cell_type": "code",
   "execution_count": 174,
   "metadata": {
    "ExecuteTime": {
     "end_time": "2019-10-13T23:21:31.251379Z",
     "start_time": "2019-10-13T23:21:31.008828Z"
    }
   },
   "outputs": [
    {
     "data": {
      "text/plain": [
       "(107743, 6)"
      ]
     },
     "execution_count": 174,
     "metadata": {},
     "output_type": "execute_result"
    }
   ],
   "source": [
    "# Read in data \n",
    "data = pd.read_csv('chess_data.csv')\n",
    "data.shape"
   ]
  },
  {
   "cell_type": "code",
   "execution_count": 175,
   "metadata": {
    "ExecuteTime": {
     "end_time": "2019-10-13T23:21:35.941087Z",
     "start_time": "2019-10-13T23:21:35.924548Z"
    }
   },
   "outputs": [
    {
     "data": {
      "text/html": [
       "<div>\n",
       "<style scoped>\n",
       "    .dataframe tbody tr th:only-of-type {\n",
       "        vertical-align: middle;\n",
       "    }\n",
       "\n",
       "    .dataframe tbody tr th {\n",
       "        vertical-align: top;\n",
       "    }\n",
       "\n",
       "    .dataframe thead th {\n",
       "        text-align: right;\n",
       "    }\n",
       "</style>\n",
       "<table border=\"1\" class=\"dataframe\">\n",
       "  <thead>\n",
       "    <tr style=\"text-align: right;\">\n",
       "      <th></th>\n",
       "      <th>player1</th>\n",
       "      <th>player1_elo</th>\n",
       "      <th>player2</th>\n",
       "      <th>player2_elo</th>\n",
       "      <th>winner</th>\n",
       "      <th>game_id</th>\n",
       "    </tr>\n",
       "  </thead>\n",
       "  <tbody>\n",
       "    <tr>\n",
       "      <th>107738</th>\n",
       "      <td>rg370dx</td>\n",
       "      <td>1274</td>\n",
       "      <td>kingsalley</td>\n",
       "      <td>1308</td>\n",
       "      <td>kingsalley</td>\n",
       "      <td>4052426056</td>\n",
       "    </tr>\n",
       "    <tr>\n",
       "      <th>107739</th>\n",
       "      <td>tyr124</td>\n",
       "      <td>1307</td>\n",
       "      <td>wasteyouryouth</td>\n",
       "      <td>1213</td>\n",
       "      <td>tyr124</td>\n",
       "      <td>2761996130</td>\n",
       "    </tr>\n",
       "    <tr>\n",
       "      <th>107740</th>\n",
       "      <td>MASTER1232L</td>\n",
       "      <td>1131</td>\n",
       "      <td>vishy_inspire_10</td>\n",
       "      <td>1124</td>\n",
       "      <td>vishy_inspire_10</td>\n",
       "      <td>2751584485</td>\n",
       "    </tr>\n",
       "    <tr>\n",
       "      <th>107741</th>\n",
       "      <td>cathy_cathy</td>\n",
       "      <td>1315</td>\n",
       "      <td>anon1127</td>\n",
       "      <td>1107</td>\n",
       "      <td>cathy_cathy</td>\n",
       "      <td>145218848</td>\n",
       "    </tr>\n",
       "    <tr>\n",
       "      <th>107742</th>\n",
       "      <td>gfendlich</td>\n",
       "      <td>787</td>\n",
       "      <td>shahmatil_tvoyu_mamk</td>\n",
       "      <td>799</td>\n",
       "      <td>shahmatil_tvoyu_mamk</td>\n",
       "      <td>1850793370</td>\n",
       "    </tr>\n",
       "  </tbody>\n",
       "</table>\n",
       "</div>"
      ],
      "text/plain": [
       "            player1  player1_elo               player2  player2_elo  \\\n",
       "107738      rg370dx         1274            kingsalley         1308   \n",
       "107739       tyr124         1307        wasteyouryouth         1213   \n",
       "107740  MASTER1232L         1131      vishy_inspire_10         1124   \n",
       "107741  cathy_cathy         1315              anon1127         1107   \n",
       "107742    gfendlich          787  shahmatil_tvoyu_mamk          799   \n",
       "\n",
       "                      winner     game_id  \n",
       "107738            kingsalley  4052426056  \n",
       "107739                tyr124  2761996130  \n",
       "107740      vishy_inspire_10  2751584485  \n",
       "107741           cathy_cathy   145218848  \n",
       "107742  shahmatil_tvoyu_mamk  1850793370  "
      ]
     },
     "execution_count": 175,
     "metadata": {},
     "output_type": "execute_result"
    }
   ],
   "source": [
    "data.tail()"
   ]
  },
  {
   "cell_type": "markdown",
   "metadata": {},
   "source": [
    "## Feature Engineer"
   ]
  },
  {
   "cell_type": "code",
   "execution_count": 176,
   "metadata": {
    "ExecuteTime": {
     "end_time": "2019-10-13T23:21:54.550845Z",
     "start_time": "2019-10-13T23:21:42.787121Z"
    }
   },
   "outputs": [],
   "source": [
    "# Feature Functions\n",
    "def is_win(row):\n",
    "    if row['player1'] == row['winner']:\n",
    "        return 1\n",
    "    elif row['player2'] == row['winner']:\n",
    "        return 0\n",
    "    else: \n",
    "        return 999 # one faulty row in the scrape \n",
    "\n",
    "def elo_diff(row):\n",
    "    return row['player1_elo'] - row['player2_elo']\n",
    "\n",
    "def is_computer(row):\n",
    "    return ('computer' in row['player1'].lower()) or ('computer' in row['player2'].lower())\n",
    "\n",
    "# Apply functions  \n",
    "data['win'] = data.apply(is_win, axis=1)\n",
    "data['elo_diff'] = data.apply(elo_diff, axis=1)\n",
    "data['is_computer'] = data.apply(is_computer, axis=1)"
   ]
  },
  {
   "cell_type": "code",
   "execution_count": 179,
   "metadata": {
    "ExecuteTime": {
     "end_time": "2019-10-13T23:22:16.967651Z",
     "start_time": "2019-10-13T23:22:16.445668Z"
    }
   },
   "outputs": [
    {
     "name": "stdout",
     "output_type": "stream",
     "text": [
      "Before dedup: 104420 rows\n",
      "After dedup: 102846 rows\n"
     ]
    }
   ],
   "source": [
    "# Drop duplicates and remove drawn games \n",
    "print('Before dedup: ' + str(data.shape[0]) + ' rows')\n",
    "data.drop_duplicates(subset =\"game_id\", keep = False, inplace = True) \n",
    "data = data[data.winner != 'Game']\n",
    "data = data[data.win != 999] \n",
    "data = data[data.is_computer == False]\n",
    "print('After dedup: ' + str(data.shape[0]) + ' rows')"
   ]
  },
  {
   "cell_type": "code",
   "execution_count": 180,
   "metadata": {
    "ExecuteTime": {
     "end_time": "2019-10-13T23:22:32.428418Z",
     "start_time": "2019-10-13T23:22:32.386619Z"
    }
   },
   "outputs": [
    {
     "data": {
      "text/html": [
       "<div>\n",
       "<style scoped>\n",
       "    .dataframe tbody tr th:only-of-type {\n",
       "        vertical-align: middle;\n",
       "    }\n",
       "\n",
       "    .dataframe tbody tr th {\n",
       "        vertical-align: top;\n",
       "    }\n",
       "\n",
       "    .dataframe thead th {\n",
       "        text-align: right;\n",
       "    }\n",
       "</style>\n",
       "<table border=\"1\" class=\"dataframe\">\n",
       "  <thead>\n",
       "    <tr style=\"text-align: right;\">\n",
       "      <th></th>\n",
       "      <th>player1_elo</th>\n",
       "      <th>player2_elo</th>\n",
       "      <th>game_id</th>\n",
       "      <th>win</th>\n",
       "      <th>elo_diff</th>\n",
       "    </tr>\n",
       "  </thead>\n",
       "  <tbody>\n",
       "    <tr>\n",
       "      <th>count</th>\n",
       "      <td>102846.000000</td>\n",
       "      <td>102846.000000</td>\n",
       "      <td>1.028460e+05</td>\n",
       "      <td>102846.000000</td>\n",
       "      <td>102846.000000</td>\n",
       "    </tr>\n",
       "    <tr>\n",
       "      <th>mean</th>\n",
       "      <td>1267.097777</td>\n",
       "      <td>1266.267653</td>\n",
       "      <td>1.998554e+09</td>\n",
       "      <td>0.519233</td>\n",
       "      <td>0.830125</td>\n",
       "    </tr>\n",
       "    <tr>\n",
       "      <th>std</th>\n",
       "      <td>341.293126</td>\n",
       "      <td>340.860320</td>\n",
       "      <td>1.238178e+09</td>\n",
       "      <td>0.499632</td>\n",
       "      <td>120.056757</td>\n",
       "    </tr>\n",
       "    <tr>\n",
       "      <th>min</th>\n",
       "      <td>100.000000</td>\n",
       "      <td>118.000000</td>\n",
       "      <td>1.000000e+00</td>\n",
       "      <td>0.000000</td>\n",
       "      <td>-1800.000000</td>\n",
       "    </tr>\n",
       "    <tr>\n",
       "      <th>25%</th>\n",
       "      <td>1034.000000</td>\n",
       "      <td>1032.000000</td>\n",
       "      <td>9.259987e+08</td>\n",
       "      <td>0.000000</td>\n",
       "      <td>-46.000000</td>\n",
       "    </tr>\n",
       "    <tr>\n",
       "      <th>50%</th>\n",
       "      <td>1265.000000</td>\n",
       "      <td>1264.000000</td>\n",
       "      <td>2.023927e+09</td>\n",
       "      <td>1.000000</td>\n",
       "      <td>1.000000</td>\n",
       "    </tr>\n",
       "    <tr>\n",
       "      <th>75%</th>\n",
       "      <td>1494.000000</td>\n",
       "      <td>1493.000000</td>\n",
       "      <td>3.076850e+09</td>\n",
       "      <td>1.000000</td>\n",
       "      <td>47.000000</td>\n",
       "    </tr>\n",
       "    <tr>\n",
       "      <th>max</th>\n",
       "      <td>2886.000000</td>\n",
       "      <td>3000.000000</td>\n",
       "      <td>4.107982e+09</td>\n",
       "      <td>1.000000</td>\n",
       "      <td>2216.000000</td>\n",
       "    </tr>\n",
       "  </tbody>\n",
       "</table>\n",
       "</div>"
      ],
      "text/plain": [
       "         player1_elo    player2_elo       game_id            win  \\\n",
       "count  102846.000000  102846.000000  1.028460e+05  102846.000000   \n",
       "mean     1267.097777    1266.267653  1.998554e+09       0.519233   \n",
       "std       341.293126     340.860320  1.238178e+09       0.499632   \n",
       "min       100.000000     118.000000  1.000000e+00       0.000000   \n",
       "25%      1034.000000    1032.000000  9.259987e+08       0.000000   \n",
       "50%      1265.000000    1264.000000  2.023927e+09       1.000000   \n",
       "75%      1494.000000    1493.000000  3.076850e+09       1.000000   \n",
       "max      2886.000000    3000.000000  4.107982e+09       1.000000   \n",
       "\n",
       "            elo_diff  \n",
       "count  102846.000000  \n",
       "mean        0.830125  \n",
       "std       120.056757  \n",
       "min     -1800.000000  \n",
       "25%       -46.000000  \n",
       "50%         1.000000  \n",
       "75%        47.000000  \n",
       "max      2216.000000  "
      ]
     },
     "execution_count": 180,
     "metadata": {},
     "output_type": "execute_result"
    }
   ],
   "source": [
    "data.describe()"
   ]
  },
  {
   "cell_type": "code",
   "execution_count": 181,
   "metadata": {
    "ExecuteTime": {
     "end_time": "2019-10-13T23:23:07.875718Z",
     "start_time": "2019-10-13T23:23:06.274216Z"
    }
   },
   "outputs": [
    {
     "data": {
      "text/plain": [
       "<matplotlib.figure.Figure at 0x13e99c048>"
      ]
     },
     "execution_count": 181,
     "metadata": {},
     "output_type": "execute_result"
    },
    {
     "data": {
      "text/plain": [
       "<matplotlib.collections.LineCollection at 0x144083630>"
      ]
     },
     "execution_count": 181,
     "metadata": {},
     "output_type": "execute_result"
    },
    {
     "data": {
      "text/plain": [
       "<matplotlib.axes._subplots.AxesSubplot at 0x144492860>"
      ]
     },
     "execution_count": 181,
     "metadata": {},
     "output_type": "execute_result"
    },
    {
     "data": {
      "text/plain": [
       "Text(1525,0.00112,'Mean elo: 1267')"
      ]
     },
     "execution_count": 181,
     "metadata": {},
     "output_type": "execute_result"
    },
    {
     "data": {
      "text/plain": [
       "Text(0.5,0,'Elo')"
      ]
     },
     "execution_count": 181,
     "metadata": {},
     "output_type": "execute_result"
    },
    {
     "data": {
      "text/plain": [
       "Text(0,0.5,'Frequency')"
      ]
     },
     "execution_count": 181,
     "metadata": {},
     "output_type": "execute_result"
    },
    {
     "data": {
      "text/plain": [
       "Text(0.5,1,'Distribution of Player Elos')"
      ]
     },
     "execution_count": 181,
     "metadata": {},
     "output_type": "execute_result"
    },
    {
     "data": {
      "text/plain": [
       "(0, 0.0012)"
      ]
     },
     "execution_count": 181,
     "metadata": {},
     "output_type": "execute_result"
    },
    {
     "data": {
      "image/png": "[encoded data removed]",
      "text/plain": [
       "<matplotlib.figure.Figure at 0x13e99c048>"
      ]
     },
     "metadata": {},
     "output_type": "display_data"
    }
   ],
   "source": [
    "mean_elo = data.player1_elo.mean()\n",
    "\n",
    "sns.set_style(\"whitegrid\")\n",
    "plt.figure(figsize=(11, 6))\n",
    "\n",
    "plt.vlines(x=mean_elo, \n",
    "           colors='red',\n",
    "           ymin=0,\n",
    "           ymax=.0013,\n",
    "           linestyles='dashed')\n",
    "\n",
    "sns.distplot(data['player1_elo'], \n",
    "             kde=False, \n",
    "             fit=stats.gamma,\n",
    "             color='black')\n",
    "\n",
    "plt.text(x=1525, \n",
    "         y=.00112, \n",
    "         s= ('Mean elo: ' + str(int(mean_elo))), \n",
    "         fontsize=12)\n",
    "\n",
    "plt.xlabel('Elo', fontsize=13)\n",
    "plt.ylabel('Frequency', fontsize=13)\n",
    "plt.title('Distribution of Player Elos', fontsize=15)\n",
    "plt.ylim(0, .0012)\n",
    "\n",
    "plt.show()"
   ]
  },
  {
   "cell_type": "code",
   "execution_count": 182,
   "metadata": {
    "ExecuteTime": {
     "end_time": "2019-10-13T23:23:14.233601Z",
     "start_time": "2019-10-13T23:23:12.545591Z"
    }
   },
   "outputs": [
    {
     "data": {
      "text/plain": [
       "<matplotlib.figure.Figure at 0x1417589b0>"
      ]
     },
     "execution_count": 182,
     "metadata": {},
     "output_type": "execute_result"
    },
    {
     "data": {
      "text/plain": [
       "<matplotlib.axes._subplots.AxesSubplot at 0x141758898>"
      ]
     },
     "execution_count": 182,
     "metadata": {},
     "output_type": "execute_result"
    },
    {
     "data": {
      "text/plain": [
       "Text(0.5,0,'Elo Difference')"
      ]
     },
     "execution_count": 182,
     "metadata": {},
     "output_type": "execute_result"
    },
    {
     "data": {
      "text/plain": [
       "Text(0,0.5,'Frequency')"
      ]
     },
     "execution_count": 182,
     "metadata": {},
     "output_type": "execute_result"
    },
    {
     "data": {
      "text/plain": [
       "Text(0.5,1,'Distribution of Elo Differences')"
      ]
     },
     "execution_count": 182,
     "metadata": {},
     "output_type": "execute_result"
    },
    {
     "data": {
      "image/png": "[encoded data removed]",
      "text/plain": [
       "<matplotlib.figure.Figure at 0x1417589b0>"
      ]
     },
     "metadata": {},
     "output_type": "display_data"
    }
   ],
   "source": [
    "trunc300 = data.loc[data['elo_diff'].between(-300, 300)]\n",
    "\n",
    "sns.set_style(\"whitegrid\")\n",
    "plt.figure(figsize=(11, 6))\n",
    "\n",
    "sns.distplot(trunc300['elo_diff'], \n",
    "             kde=False, \n",
    "             fit=stats.gamma,\n",
    "             color='black')\n",
    "\n",
    "plt.xlabel('Elo Difference', fontsize=13)\n",
    "plt.ylabel('Frequency', fontsize=13)\n",
    "plt.title('Distribution of Elo Differences', fontsize=15)\n",
    "\n",
    "plt.show()"
   ]
  },
  {
   "cell_type": "code",
   "execution_count": 195,
   "metadata": {
    "ExecuteTime": {
     "end_time": "2019-10-13T23:43:40.290020Z",
     "start_time": "2019-10-13T23:43:38.989583Z"
    }
   },
   "outputs": [
    {
     "data": {
      "text/plain": [
       "<matplotlib.figure.Figure at 0x14b6f6710>"
      ]
     },
     "execution_count": 195,
     "metadata": {},
     "output_type": "execute_result"
    },
    {
     "data": {
      "text/plain": [
       "<matplotlib.axes._subplots.AxesSubplot at 0x124bacf60>"
      ]
     },
     "execution_count": 195,
     "metadata": {},
     "output_type": "execute_result"
    },
    {
     "data": {
      "text/plain": [
       "Text(0.5,0,'Elo Difference')"
      ]
     },
     "execution_count": 195,
     "metadata": {},
     "output_type": "execute_result"
    },
    {
     "data": {
      "text/plain": [
       "Text(0,0.5,'Percent of Games Won')"
      ]
     },
     "execution_count": 195,
     "metadata": {},
     "output_type": "execute_result"
    },
    {
     "data": {
      "text/plain": [
       "Text(0.5,1,'Win Percentages by Elo Difference')"
      ]
     },
     "execution_count": 195,
     "metadata": {},
     "output_type": "execute_result"
    },
    {
     "data": {
      "text/plain": [
       "([<matplotlib.axis.XTick at 0x124bc6630>,\n",
       "  <matplotlib.axis.XTick at 0x14559aeb8>,\n",
       "  <matplotlib.axis.XTick at 0x124b78c50>,\n",
       "  <matplotlib.axis.XTick at 0x132619dd8>,\n",
       "  <matplotlib.axis.XTick at 0x13261f518>,\n",
       "  <matplotlib.axis.XTick at 0x13261fc18>,\n",
       "  <matplotlib.axis.XTick at 0x132625390>,\n",
       "  <matplotlib.axis.XTick at 0x132625ac8>,\n",
       "  <matplotlib.axis.XTick at 0x13262a240>,\n",
       "  <matplotlib.axis.XTick at 0x13262a978>,\n",
       "  <matplotlib.axis.XTick at 0x1326300f0>,\n",
       "  <matplotlib.axis.XTick at 0x132630828>,\n",
       "  <matplotlib.axis.XTick at 0x132630f60>,\n",
       "  <matplotlib.axis.XTick at 0x1326366d8>,\n",
       "  <matplotlib.axis.XTick at 0x132636e10>,\n",
       "  <matplotlib.axis.XTick at 0x13263d588>,\n",
       "  <matplotlib.axis.XTick at 0x13263dcc0>,\n",
       "  <matplotlib.axis.XTick at 0x132641438>,\n",
       "  <matplotlib.axis.XTick at 0x132641b70>,\n",
       "  <matplotlib.axis.XTick at 0x1326472e8>,\n",
       "  <matplotlib.axis.XTick at 0x132647a20>,\n",
       "  <matplotlib.axis.XTick at 0x13264c198>,\n",
       "  <matplotlib.axis.XTick at 0x13264c8d0>,\n",
       "  <matplotlib.axis.XTick at 0x132653048>,\n",
       "  <matplotlib.axis.XTick at 0x132653780>,\n",
       "  <matplotlib.axis.XTick at 0x132653eb8>,\n",
       "  <matplotlib.axis.XTick at 0x132658630>,\n",
       "  <matplotlib.axis.XTick at 0x132658d68>,\n",
       "  <matplotlib.axis.XTick at 0x13265d4e0>,\n",
       "  <matplotlib.axis.XTick at 0x13265dc18>,\n",
       "  <matplotlib.axis.XTick at 0x132663390>,\n",
       "  <matplotlib.axis.XTick at 0x132663ac8>,\n",
       "  <matplotlib.axis.XTick at 0x132668240>,\n",
       "  <matplotlib.axis.XTick at 0x132668978>,\n",
       "  <matplotlib.axis.XTick at 0x13266e0f0>,\n",
       "  <matplotlib.axis.XTick at 0x13266e828>,\n",
       "  <matplotlib.axis.XTick at 0x13266ef60>,\n",
       "  <matplotlib.axis.XTick at 0x1326746d8>,\n",
       "  <matplotlib.axis.XTick at 0x132674e10>,\n",
       "  <matplotlib.axis.XTick at 0x132679588>,\n",
       "  <matplotlib.axis.XTick at 0x132679cc0>],\n",
       " <a list of 41 Text xticklabel objects>)"
      ]
     },
     "execution_count": 195,
     "metadata": {},
     "output_type": "execute_result"
    },
    {
     "data": {
      "image/png": "[encoded data removed]",
      "text/plain": [
       "<matplotlib.figure.Figure at 0x14b6f6710>"
      ]
     },
     "metadata": {},
     "output_type": "display_data"
    }
   ],
   "source": [
    "elorange = 100\n",
    "\n",
    "data100 = data.loc[data['elo_diff'].between(-elorange, elorange)]\n",
    "grouped100 = data100.groupby('elo_diff').count()\n",
    "\n",
    "sns.set_style(\"whitegrid\")\n",
    "plt.figure(figsize=(15, 7))\n",
    "\n",
    "sns.barplot(y= 'win', \n",
    "            x=grouped100.index,\n",
    "            data=grouped100,\n",
    "            color='darkgreen'\n",
    "           )\n",
    "\n",
    "plt.xlabel('Elo Difference', fontsize=13)\n",
    "plt.ylabel('Percent of Games Won', fontsize=13)\n",
    "plt.title('Win Percentages by Elo Difference', fontsize=15)\n",
    "plt.xticks(range(0, elorange*2 + int(elorange/20), int(elorange/20)), \n",
    "           range(-elorange, elorange + int(elorange/20), int(elorange/20)), \n",
    "           rotation=90)\n",
    "\n",
    "\n",
    "plt.show()\n",
    "\n",
    "# computer matches?"
   ]
  },
  {
   "cell_type": "code",
   "execution_count": 244,
   "metadata": {
    "ExecuteTime": {
     "end_time": "2019-10-14T00:41:55.026191Z",
     "start_time": "2019-10-14T00:41:53.646239Z"
    }
   },
   "outputs": [
    {
     "data": {
      "text/plain": [
       "<matplotlib.figure.Figure at 0x14032dd30>"
      ]
     },
     "execution_count": 244,
     "metadata": {},
     "output_type": "execute_result"
    },
    {
     "data": {
      "text/plain": [
       "<matplotlib.axes._subplots.AxesSubplot at 0x125fdc588>"
      ]
     },
     "execution_count": 244,
     "metadata": {},
     "output_type": "execute_result"
    },
    {
     "data": {
      "text/plain": [
       "Text(0.5,0,'Elo Difference')"
      ]
     },
     "execution_count": 244,
     "metadata": {},
     "output_type": "execute_result"
    },
    {
     "data": {
      "text/plain": [
       "Text(0,0.5,'Percent of Games Won')"
      ]
     },
     "execution_count": 244,
     "metadata": {},
     "output_type": "execute_result"
    },
    {
     "data": {
      "text/plain": [
       "Text(0.5,1,'Win Percentages by Elo Difference')"
      ]
     },
     "execution_count": 244,
     "metadata": {},
     "output_type": "execute_result"
    },
    {
     "data": {
      "text/plain": [
       "([<matplotlib.axis.XTick at 0x13270d390>,\n",
       "  <matplotlib.axis.XTick at 0x1436fff28>,\n",
       "  <matplotlib.axis.XTick at 0x1260176d8>,\n",
       "  <matplotlib.axis.XTick at 0x14d55b320>,\n",
       "  <matplotlib.axis.XTick at 0x14d55ba20>,\n",
       "  <matplotlib.axis.XTick at 0x14d560160>,\n",
       "  <matplotlib.axis.XTick at 0x14d560898>,\n",
       "  <matplotlib.axis.XTick at 0x14d560fd0>,\n",
       "  <matplotlib.axis.XTick at 0x14d564748>,\n",
       "  <matplotlib.axis.XTick at 0x14d564e80>,\n",
       "  <matplotlib.axis.XTick at 0x14d5665f8>,\n",
       "  <matplotlib.axis.XTick at 0x14d566d30>,\n",
       "  <matplotlib.axis.XTick at 0x14d56b4a8>,\n",
       "  <matplotlib.axis.XTick at 0x14d56bbe0>,\n",
       "  <matplotlib.axis.XTick at 0x14d56f358>,\n",
       "  <matplotlib.axis.XTick at 0x14d56fa90>,\n",
       "  <matplotlib.axis.XTick at 0x14d574208>,\n",
       "  <matplotlib.axis.XTick at 0x14d574940>,\n",
       "  <matplotlib.axis.XTick at 0x14d5770b8>,\n",
       "  <matplotlib.axis.XTick at 0x14d5777f0>,\n",
       "  <matplotlib.axis.XTick at 0x14d577f28>,\n",
       "  <matplotlib.axis.XTick at 0x14d57b6a0>,\n",
       "  <matplotlib.axis.XTick at 0x14d57bdd8>,\n",
       "  <matplotlib.axis.XTick at 0x14d57e550>,\n",
       "  <matplotlib.axis.XTick at 0x14d57ec88>,\n",
       "  <matplotlib.axis.XTick at 0x14d581400>,\n",
       "  <matplotlib.axis.XTick at 0x14d581b38>,\n",
       "  <matplotlib.axis.XTick at 0x14d5842b0>,\n",
       "  <matplotlib.axis.XTick at 0x14d5849e8>,\n",
       "  <matplotlib.axis.XTick at 0x14d588160>,\n",
       "  <matplotlib.axis.XTick at 0x14d588898>,\n",
       "  <matplotlib.axis.XTick at 0x14d588fd0>,\n",
       "  <matplotlib.axis.XTick at 0x14d58e748>,\n",
       "  <matplotlib.axis.XTick at 0x14d58ee80>,\n",
       "  <matplotlib.axis.XTick at 0x14d5925f8>,\n",
       "  <matplotlib.axis.XTick at 0x14d592d30>,\n",
       "  <matplotlib.axis.XTick at 0x14d5974a8>,\n",
       "  <matplotlib.axis.XTick at 0x14d597be0>,\n",
       "  <matplotlib.axis.XTick at 0x14d59a358>,\n",
       "  <matplotlib.axis.XTick at 0x14d59aa90>,\n",
       "  <matplotlib.axis.XTick at 0x14d59f208>],\n",
       " <a list of 41 Text xticklabel objects>)"
      ]
     },
     "execution_count": 244,
     "metadata": {},
     "output_type": "execute_result"
    },
    {
     "data": {
      "text/plain": [
       "[<matplotlib.lines.Line2D at 0x14d6affd0>]"
      ]
     },
     "execution_count": 244,
     "metadata": {},
     "output_type": "execute_result"
    },
    {
     "data": {
      "image/png": "[encoded data removed]",
      "text/plain": [
       "<matplotlib.figure.Figure at 0x14032dd30>"
      ]
     },
     "metadata": {},
     "output_type": "display_data"
    }
   ],
   "source": [
    "elorange = 100\n",
    "\n",
    "data_trunc = data.loc[data['elo_diff'].between(-elorange, elorange)]\n",
    "grouped_trunc = data_trunc.groupby('elo_diff').mean()\n",
    "\n",
    "sns.set_style(\"whitegrid\")\n",
    "plt.figure(figsize=(15, 7))\n",
    "\n",
    "sns.barplot(y= 'win', \n",
    "            x=grouped_trunc.index,\n",
    "            data=grouped_trunc,\n",
    "            color='darkgreen'\n",
    "           )\n",
    "\n",
    "plt.xlabel('Elo Difference', fontsize=13)\n",
    "plt.ylabel('Percent of Games Won', fontsize=13)\n",
    "plt.title('Win Percentages by Elo Difference', fontsize=15)\n",
    "plt.xticks(range(0, elorange*2 + int(elorange/20), int(elorange/20)), \n",
    "           range(-elorange, elorange + int(elorange/20), int(elorange/20)), \n",
    "           rotation=90)\n",
    "\n",
    "\n",
    "plt.show()"
   ]
  },
  {
   "cell_type": "markdown",
   "metadata": {
    "collapsed": true
   },
   "source": [
    "## Logistic regression model"
   ]
  },
  {
   "cell_type": "code",
   "execution_count": 191,
   "metadata": {
    "ExecuteTime": {
     "end_time": "2019-10-13T23:37:42.686075Z",
     "start_time": "2019-10-13T23:37:42.681704Z"
    },
    "collapsed": true
   },
   "outputs": [],
   "source": [
    "def logit_to_prob(logit):\n",
    "    odds = math.exp(logit)\n",
    "    prob = odds / (1+odds)\n",
    "    return(prob)"
   ]
  },
  {
   "cell_type": "code",
   "execution_count": 185,
   "metadata": {
    "ExecuteTime": {
     "end_time": "2019-10-13T23:24:12.542994Z",
     "start_time": "2019-10-13T23:24:12.304234Z"
    },
    "scrolled": false
   },
   "outputs": [
    {
     "name": "stdout",
     "output_type": "stream",
     "text": [
      "Optimization terminated successfully.\n",
      "         Current function value: 0.599047\n",
      "         Iterations 6\n",
      "                          Results: Logit\n",
      "==================================================================\n",
      "Model:              Logit            Pseudo R-squared: 0.135      \n",
      "Dependent Variable: win              AIC:              123221.1952\n",
      "Date:               2019-10-13 19:24 BIC:              123230.7361\n",
      "No. Observations:   102846           Log-Likelihood:   -61610.    \n",
      "Df Model:           0                LL-Null:          -71211.    \n",
      "Df Residuals:       102845           LLR p-value:      nan        \n",
      "Converged:          1.0000           Scale:            1.0000     \n",
      "No. Iterations:     6.0000                                        \n",
      "--------------------------------------------------------------------\n",
      "             Coef.    Std.Err.      z       P>|z|    [0.025   0.975]\n",
      "--------------------------------------------------------------------\n",
      "elo_diff     0.0110     0.0001   110.1334   0.0000   0.0109   0.0112\n",
      "==================================================================\n",
      "\n"
     ]
    }
   ],
   "source": [
    "# Separate independent and dependent variables\n",
    "X = data['elo_diff']\n",
    "y = data['win']\n",
    "\n",
    "# Fit the model\n",
    "model = sm.Logit(y, X)\n",
    "\n",
    "# Print the results\n",
    "result = model.fit()\n",
    "print(result.summary2())"
   ]
  },
  {
   "cell_type": "code",
   "execution_count": 186,
   "metadata": {
    "ExecuteTime": {
     "end_time": "2019-10-13T23:24:28.079479Z",
     "start_time": "2019-10-13T23:24:17.692316Z"
    }
   },
   "outputs": [
    {
     "data": {
      "text/plain": [
       "<matplotlib.figure.Figure at 0x147db5be0>"
      ]
     },
     "execution_count": 186,
     "metadata": {},
     "output_type": "execute_result"
    },
    {
     "data": {
      "text/plain": [
       "<matplotlib.axes._subplots.AxesSubplot at 0x141f54d68>"
      ]
     },
     "execution_count": 186,
     "metadata": {},
     "output_type": "execute_result"
    },
    {
     "data": {
      "text/plain": [
       "Text(0.5,0,'Elo Difference')"
      ]
     },
     "execution_count": 186,
     "metadata": {},
     "output_type": "execute_result"
    },
    {
     "data": {
      "text/plain": [
       "Text(0,0.5,'Probability of Win')"
      ]
     },
     "execution_count": 186,
     "metadata": {},
     "output_type": "execute_result"
    },
    {
     "data": {
      "text/plain": [
       "Text(0.5,1,'Logistic Regression with Elo Differences')"
      ]
     },
     "execution_count": 186,
     "metadata": {},
     "output_type": "execute_result"
    },
    {
     "data": {
      "image/png": "[encoded data removed]",
      "text/plain": [
       "<matplotlib.figure.Figure at 0x147db5be0>"
      ]
     },
     "metadata": {},
     "output_type": "display_data"
    }
   ],
   "source": [
    "sns.set_style(\"whitegrid\")\n",
    "plt.figure(figsize=(11, 6))\n",
    "\n",
    "\n",
    "sns.regplot(x='elo_diff', \n",
    "            y='win', \n",
    "            data=data.tail(5000), \n",
    "            logistic=True,\n",
    "            color='green',\n",
    "            line_kws={'color': 'black'})\n",
    "\n",
    "\n",
    "plt.xlabel('Elo Difference', fontsize=13)\n",
    "plt.ylabel('Probability of Win', fontsize=13)\n",
    "plt.title('Logistic Regression with Elo Differences', fontsize=15)\n",
    "\n",
    "plt.show()"
   ]
  },
  {
   "cell_type": "code",
   "execution_count": 32,
   "metadata": {
    "ExecuteTime": {
     "end_time": "2019-10-13T15:25:28.208333Z",
     "start_time": "2019-10-13T15:25:28.103320Z"
    }
   },
   "outputs": [
    {
     "name": "stdout",
     "output_type": "stream",
     "text": [
      "Accuracy of logistic regression classifier on test set: 0.68\n"
     ]
    },
    {
     "name": "stderr",
     "output_type": "stream",
     "text": [
      "/Users/Eric/anaconda3/lib/python3.6/site-packages/ipykernel_launcher.py:9: FutureWarning: reshape is deprecated and will raise in a subsequent release. Please use .values.reshape(...) instead\n",
      "  if __name__ == '__main__':\n",
      "/Users/Eric/anaconda3/lib/python3.6/site-packages/ipykernel_launcher.py:10: FutureWarning: reshape is deprecated and will raise in a subsequent release. Please use .values.reshape(...) instead\n",
      "  # Remove the CWD from sys.path while we load stuff.\n",
      "/Users/Eric/anaconda3/lib/python3.6/site-packages/sklearn/linear_model/logistic.py:432: FutureWarning: Default solver will be changed to 'lbfgs' in 0.22. Specify a solver to silence this warning.\n",
      "  FutureWarning)\n",
      "/Users/Eric/anaconda3/lib/python3.6/site-packages/sklearn/utils/validation.py:724: DataConversionWarning: A column-vector y was passed when a 1d array was expected. Please change the shape of y to (n_samples, ), for example using ravel().\n",
      "  y = column_or_1d(y, warn=True)\n"
     ]
    }
   ],
   "source": [
    "# Fit model on training data\n",
    "from sklearn.linear_model import LogisticRegression\n",
    "from sklearn import metrics\n",
    "from sklearn.model_selection import train_test_split\n",
    "\n",
    "X_train, X_test, y_train, y_test = train_test_split(X, y, test_size=0.3, random_state=0)\n",
    "logreg = LogisticRegression()\n",
    "\n",
    "X_train = X_train.reshape(-1, 1)\n",
    "y_train = y_train.reshape(-1, 1)\n",
    "X_test = X_train.reshape(-1, 1)\n",
    "y_test = y_train.reshape(-1, 1)\n",
    "\n",
    "logreg.fit(X_train, y_train)\n",
    "\n",
    "y_pred = logreg.predict(X_test)\n",
    "print('Accuracy of logistic regression classifier on test set: {:.2f}'.format(logreg.score(X_test, y_test)))\n",
    "\n"
   ]
  },
  {
   "cell_type": "code",
   "execution_count": 33,
   "metadata": {
    "ExecuteTime": {
     "end_time": "2019-10-13T15:25:51.860821Z",
     "start_time": "2019-10-13T15:25:51.781341Z"
    }
   },
   "outputs": [
    {
     "name": "stdout",
     "output_type": "stream",
     "text": [
      "[[20799 11918]\n",
      " [ 9729 25479]]\n"
     ]
    }
   ],
   "source": [
    "# Confusion Matrix\n",
    "from sklearn.metrics import confusion_matrix\n",
    "confusion_matrix = confusion_matrix(y_test, y_pred)\n",
    "print(confusion_matrix)"
   ]
  },
  {
   "cell_type": "code",
   "execution_count": 34,
   "metadata": {
    "ExecuteTime": {
     "end_time": "2019-10-13T15:25:56.517507Z",
     "start_time": "2019-10-13T15:25:56.414035Z"
    }
   },
   "outputs": [
    {
     "name": "stdout",
     "output_type": "stream",
     "text": [
      "              precision    recall  f1-score   support\n",
      "\n",
      "           0       0.68      0.64      0.66     32717\n",
      "           1       0.68      0.72      0.70     35208\n",
      "\n",
      "    accuracy                           0.68     67925\n",
      "   macro avg       0.68      0.68      0.68     67925\n",
      "weighted avg       0.68      0.68      0.68     67925\n",
      "\n"
     ]
    }
   ],
   "source": [
    "# Recall Percision Accuracy \n",
    "from sklearn.metrics import classification_report\n",
    "print(classification_report(y_test, y_pred))"
   ]
  },
  {
   "cell_type": "code",
   "execution_count": 150,
   "metadata": {
    "ExecuteTime": {
     "end_time": "2019-10-13T21:30:50.310750Z",
     "start_time": "2019-10-13T21:30:50.063620Z"
    }
   },
   "outputs": [
    {
     "data": {
      "text/plain": [
       "<matplotlib.figure.Figure at 0x1441ad748>"
      ]
     },
     "execution_count": 150,
     "metadata": {},
     "output_type": "execute_result"
    },
    {
     "data": {
      "text/plain": [
       "[<matplotlib.lines.Line2D at 0x1415f7438>]"
      ]
     },
     "execution_count": 150,
     "metadata": {},
     "output_type": "execute_result"
    },
    {
     "data": {
      "text/plain": [
       "[<matplotlib.lines.Line2D at 0x1446261d0>]"
      ]
     },
     "execution_count": 150,
     "metadata": {},
     "output_type": "execute_result"
    },
    {
     "data": {
      "text/plain": [
       "(-0.002, 1.0)"
      ]
     },
     "execution_count": 150,
     "metadata": {},
     "output_type": "execute_result"
    },
    {
     "data": {
      "text/plain": [
       "(0.0, 1.002)"
      ]
     },
     "execution_count": 150,
     "metadata": {},
     "output_type": "execute_result"
    },
    {
     "data": {
      "text/plain": [
       "Text(0.5,0,'False Positive Rate')"
      ]
     },
     "execution_count": 150,
     "metadata": {},
     "output_type": "execute_result"
    },
    {
     "data": {
      "text/plain": [
       "Text(0,0.5,'True Positive Rate')"
      ]
     },
     "execution_count": 150,
     "metadata": {},
     "output_type": "execute_result"
    },
    {
     "data": {
      "text/plain": [
       "Text(0.5,1,'Receiver operating characteristic')"
      ]
     },
     "execution_count": 150,
     "metadata": {},
     "output_type": "execute_result"
    },
    {
     "data": {
      "text/plain": [
       "<matplotlib.legend.Legend at 0x1415f75f8>"
      ]
     },
     "execution_count": 150,
     "metadata": {},
     "output_type": "execute_result"
    },
    {
     "data": {
      "image/png": "[encoded data removed]",
      "text/plain": [
       "<matplotlib.figure.Figure at 0x1441ad748>"
      ]
     },
     "metadata": {},
     "output_type": "display_data"
    }
   ],
   "source": [
    "# ROC Curve\n",
    "from sklearn.metrics import roc_auc_score\n",
    "from sklearn.metrics import roc_curve\n",
    "\n",
    "\n",
    "logit_roc_auc = roc_auc_score(y_test, logreg.predict(X_test))\n",
    "fpr, tpr, thresholds = roc_curve(y_test, logreg.predict_proba(X_test)[:,1])\n",
    "plt.figure(figsize=(10, 7))\n",
    "\n",
    "plt.plot(fpr, \n",
    "         tpr, \n",
    "         label='Logistic Regression (area = %0.2f)' % logit_roc_auc, \n",
    "         linewidth=2)\n",
    "\n",
    "plt.plot([0, 1], [0, 1],\n",
    "         'r--',\n",
    "         linewidth=2)\n",
    "\n",
    "plt.xlim([-0.002, 1.0])\n",
    "plt.ylim([0.0, 1.002])\n",
    "\n",
    "plt.xlabel('False Positive Rate')\n",
    "plt.ylabel('True Positive Rate')\n",
    "plt.title('Receiver operating characteristic')\n",
    "plt.legend(loc=\"lower right\")\n",
    "\n",
    "\n",
    "#plt.savefig('Log_ROC')\n",
    "plt.show()"
   ]
  },
  {
   "cell_type": "code",
   "execution_count": 246,
   "metadata": {
    "ExecuteTime": {
     "end_time": "2019-10-14T00:45:38.581942Z",
     "start_time": "2019-10-14T00:45:38.577217Z"
    }
   },
   "outputs": [],
   "source": [
    "pred_values = np.arange(-200, 201).reshape(-1, 1)\n",
    "predictions = logreg.predict_proba(pred_values)"
   ]
  },
  {
   "cell_type": "code",
   "execution_count": 247,
   "metadata": {
    "ExecuteTime": {
     "end_time": "2019-10-14T00:45:55.659945Z",
     "start_time": "2019-10-14T00:45:55.648644Z"
    },
    "scrolled": true
   },
   "outputs": [
    {
     "data": {
      "text/plain": [
       "array([0.07421785, 0.07511686, 0.07602587, 0.07694497, 0.07787424,\n",
       "       0.07881377, 0.07976366, 0.080724  , 0.08169487, 0.08267636,\n",
       "       0.08366858, 0.0846716 , 0.08568552, 0.08671044, 0.08774644,\n",
       "       0.08879361, 0.08985205, 0.09092184, 0.09200309, 0.09309587,\n",
       "       0.09420029, 0.09531644, 0.0964444 , 0.09758427, 0.09873614,\n",
       "       0.0999001 , 0.10107624, 0.10226466, 0.10346544, 0.10467868,\n",
       "       0.10590447, 0.10714289, 0.10839403, 0.10965799, 0.11093486,\n",
       "       0.11222472, 0.11352766, 0.11484378, 0.11617315, 0.11751586,\n",
       "       0.11887201, 0.12024168, 0.12162495, 0.1230219 , 0.12443263,\n",
       "       0.12585722, 0.12729574, 0.12874828, 0.13021493, 0.13169576,\n",
       "       0.13319085, 0.13470027, 0.13622412, 0.13776246, 0.13931537,\n",
       "       0.14088293, 0.1424652 , 0.14406227, 0.14567419, 0.14730105,\n",
       "       0.14894291, 0.15059984, 0.15227191, 0.15395917, 0.1556617 ,\n",
       "       0.15737955, 0.15911278, 0.16086146, 0.16262564, 0.16440538,\n",
       "       0.16620073, 0.16801175, 0.16983847, 0.17168097, 0.17353927,\n",
       "       0.17541342, 0.17730348, 0.17920947, 0.18113144, 0.18306943,\n",
       "       0.18502346, 0.18699358, 0.18897981, 0.19098219, 0.19300073,\n",
       "       0.19503546, 0.19708641, 0.19915358, 0.20123701, 0.20333669,\n",
       "       0.20545265, 0.20758489, 0.20973342, 0.21189824, 0.21407935,\n",
       "       0.21627675, 0.21849043, 0.2207204 , 0.22296662, 0.2252291 ,\n",
       "       0.22750782, 0.22980275, 0.23211388, 0.23444117, 0.23678461,\n",
       "       0.23914415, 0.24151976, 0.24391141, 0.24631905, 0.24874263,\n",
       "       0.25118212, 0.25363745, 0.25610857, 0.25859543, 0.26109796,\n",
       "       0.2636161 , 0.26614977, 0.26869891, 0.27126345, 0.27384329,\n",
       "       0.27643836, 0.27904857, 0.28167384, 0.28431406, 0.28696915,\n",
       "       0.28963899, 0.29232349, 0.29502254, 0.29773602, 0.30046383,\n",
       "       0.30320583, 0.30596192, 0.30873195, 0.31151581, 0.31431336,\n",
       "       0.31712446, 0.31994897, 0.32278674, 0.32563763, 0.32850149,\n",
       "       0.33137816, 0.33426747, 0.33716928, 0.34008341, 0.34300969,\n",
       "       0.34594795, 0.34889801, 0.3518597 , 0.35483283, 0.35781721,\n",
       "       0.36081265, 0.36381896, 0.36683595, 0.36986341, 0.37290114,\n",
       "       0.37594893, 0.37900658, 0.38207387, 0.38515059, 0.38823651,\n",
       "       0.39133143, 0.39443511, 0.39754733, 0.40066786, 0.40379646,\n",
       "       0.40693291, 0.41007696, 0.41322838, 0.41638693, 0.41955235,\n",
       "       0.42272441, 0.42590285, 0.42908743, 0.43227789, 0.43547397,\n",
       "       0.43867543, 0.441882  , 0.44509343, 0.44830945, 0.45152979,\n",
       "       0.4547542 , 0.45798241, 0.46121415, 0.46444916, 0.46768716,\n",
       "       0.47092788, 0.47417106, 0.47741642, 0.48066368, 0.48391258,\n",
       "       0.48716284, 0.49041418, 0.49366634, 0.49691903, 0.50017199,\n",
       "       0.50342493, 0.50667758, 0.50992966, 0.5131809 , 0.51643103,\n",
       "       0.51967977, 0.52292685, 0.52617199, 0.52941492, 0.53265536,\n",
       "       0.53589306, 0.53912773, 0.54235911, 0.54558693, 0.54881093,\n",
       "       0.55203083, 0.55524637, 0.5584573 , 0.56166334, 0.56486424,\n",
       "       0.56805975, 0.5712496 , 0.57443354, 0.57761132, 0.58078269,\n",
       "       0.58394739, 0.58710519, 0.59025584, 0.5933991 , 0.59653473,\n",
       "       0.5996625 , 0.60278216, 0.60589348, 0.60899625, 0.61209022,\n",
       "       0.61517519, 0.61825092, 0.6213172 , 0.62437382, 0.62742056,\n",
       "       0.63045721, 0.63348357, 0.63649944, 0.63950461, 0.64249889,\n",
       "       0.64548209, 0.64845402, 0.65141448, 0.65436331, 0.65730031,\n",
       "       0.66022531, 0.66313815, 0.66603864, 0.66892663, 0.67180195,\n",
       "       0.67466444, 0.67751395, 0.68035033, 0.68317343, 0.6859831 ,\n",
       "       0.68877921, 0.69156161, 0.69433018, 0.69708478, 0.69982529,\n",
       "       0.70255158, 0.70526355, 0.70796106, 0.71064402, 0.7133123 ,\n",
       "       0.71596582, 0.71860447, 0.72122815, 0.72383676, 0.72643023,\n",
       "       0.72900846, 0.73157136, 0.73411887, 0.73665091, 0.7391674 ,\n",
       "       0.74166828, 0.74415347, 0.74662293, 0.74907659, 0.75151439,\n",
       "       0.7539363 , 0.75634225, 0.7587322 , 0.76110611, 0.76346395,\n",
       "       0.76580568, 0.76813127, 0.77044068, 0.7727339 , 0.7750109 ,\n",
       "       0.77727166, 0.77951617, 0.78174441, 0.78395638, 0.78615205,\n",
       "       0.78833144, 0.79049454, 0.79264134, 0.79477186, 0.7968861 ,\n",
       "       0.79898407, 0.80106577, 0.80313123, 0.80518046, 0.80721348,\n",
       "       0.80923031, 0.81123098, 0.8132155 , 0.81518392, 0.81713626,\n",
       "       0.81907255, 0.82099283, 0.82289713, 0.8247855 , 0.82665798,\n",
       "       0.82851461, 0.83035543, 0.83218049, 0.83398985, 0.83578355,\n",
       "       0.83756164, 0.83932418, 0.84107122, 0.84280283, 0.84451906,\n",
       "       0.84621996, 0.84790562, 0.84957608, 0.85123141, 0.85287168,\n",
       "       0.85449696, 0.85610731, 0.85770281, 0.85928352, 0.86084953,\n",
       "       0.86240089, 0.8639377 , 0.86546002, 0.86696792, 0.8684615 ,\n",
       "       0.86994082, 0.87140597, 0.87285703, 0.87429408, 0.87571719,\n",
       "       0.87712646, 0.87852197, 0.87990379, 0.88127203, 0.88262675,\n",
       "       0.88396805, 0.88529602, 0.88661073, 0.88791229, 0.88920077,\n",
       "       0.89047627, 0.89173887, 0.89298867, 0.89422575, 0.8954502 ,\n",
       "       0.89666212, 0.89786159, 0.8990487 , 0.90022355, 0.90138623,\n",
       "       0.90253683, 0.90367543, 0.90480214, 0.90591704, 0.90702023,\n",
       "       0.90811179, 0.90919182, 0.91026041, 0.91131765, 0.91236364,\n",
       "       0.91339846, 0.91442221, 0.91543497, 0.91643685, 0.91742793,\n",
       "       0.9184083 , 0.91937805, 0.92033727, 0.92128606, 0.92222451,\n",
       "       0.9231527 , 0.92407072, 0.92497867, 0.92587664, 0.9267647 ,\n",
       "       0.92764296, 0.9285115 , 0.9293704 , 0.93021977, 0.93105967,\n",
       "       0.93189021, 0.93271146, 0.93352352, 0.93432647, 0.93512039,\n",
       "       0.93590538])"
      ]
     },
     "execution_count": 247,
     "metadata": {},
     "output_type": "execute_result"
    }
   ],
   "source": [
    "# How to slice \n",
    "predictions[:,1]"
   ]
  },
  {
   "cell_type": "code",
   "execution_count": 249,
   "metadata": {
    "ExecuteTime": {
     "end_time": "2019-10-14T00:46:30.908234Z",
     "start_time": "2019-10-14T00:46:28.297025Z"
    }
   },
   "outputs": [
    {
     "data": {
      "text/plain": [
       "<matplotlib.figure.Figure at 0x14f8752e8>"
      ]
     },
     "execution_count": 249,
     "metadata": {},
     "output_type": "execute_result"
    },
    {
     "data": {
      "text/plain": [
       "<matplotlib.axes._subplots.AxesSubplot at 0x14e722ac8>"
      ]
     },
     "execution_count": 249,
     "metadata": {},
     "output_type": "execute_result"
    },
    {
     "data": {
      "text/plain": [
       "Text(0.5,0,'Elo Difference')"
      ]
     },
     "execution_count": 249,
     "metadata": {},
     "output_type": "execute_result"
    },
    {
     "data": {
      "text/plain": [
       "Text(0,0.5,'Percent of Games Won')"
      ]
     },
     "execution_count": 249,
     "metadata": {},
     "output_type": "execute_result"
    },
    {
     "data": {
      "text/plain": [
       "Text(0.5,1,'Win Percentages by Elo Difference')"
      ]
     },
     "execution_count": 249,
     "metadata": {},
     "output_type": "execute_result"
    },
    {
     "data": {
      "text/plain": [
       "([<matplotlib.axis.XTick at 0x14f7bf198>,\n",
       "  <matplotlib.axis.XTick at 0x14e597278>,\n",
       "  <matplotlib.axis.XTick at 0x14f769438>,\n",
       "  <matplotlib.axis.XTick at 0x150bf8780>,\n",
       "  <matplotlib.axis.XTick at 0x150bf8e80>,\n",
       "  <matplotlib.axis.XTick at 0x150bfd5c0>,\n",
       "  <matplotlib.axis.XTick at 0x150bfdcf8>,\n",
       "  <matplotlib.axis.XTick at 0x150c02470>,\n",
       "  <matplotlib.axis.XTick at 0x150c02ba8>,\n",
       "  <matplotlib.axis.XTick at 0x150c08320>,\n",
       "  <matplotlib.axis.XTick at 0x150c08a58>,\n",
       "  <matplotlib.axis.XTick at 0x150c0e1d0>,\n",
       "  <matplotlib.axis.XTick at 0x150c0e908>,\n",
       "  <matplotlib.axis.XTick at 0x150c13080>,\n",
       "  <matplotlib.axis.XTick at 0x150c137b8>,\n",
       "  <matplotlib.axis.XTick at 0x150c13ef0>,\n",
       "  <matplotlib.axis.XTick at 0x150c19668>,\n",
       "  <matplotlib.axis.XTick at 0x150c19da0>,\n",
       "  <matplotlib.axis.XTick at 0x150c1f518>,\n",
       "  <matplotlib.axis.XTick at 0x150c1fc50>,\n",
       "  <matplotlib.axis.XTick at 0x150c233c8>,\n",
       "  <matplotlib.axis.XTick at 0x150c23b00>,\n",
       "  <matplotlib.axis.XTick at 0x150c2c278>,\n",
       "  <matplotlib.axis.XTick at 0x150c2c9b0>,\n",
       "  <matplotlib.axis.XTick at 0x150c30128>,\n",
       "  <matplotlib.axis.XTick at 0x150c30860>,\n",
       "  <matplotlib.axis.XTick at 0x150c30f98>,\n",
       "  <matplotlib.axis.XTick at 0x150c36710>,\n",
       "  <matplotlib.axis.XTick at 0x150c36e48>,\n",
       "  <matplotlib.axis.XTick at 0x150c3b5c0>,\n",
       "  <matplotlib.axis.XTick at 0x150c3bcf8>,\n",
       "  <matplotlib.axis.XTick at 0x150c41470>,\n",
       "  <matplotlib.axis.XTick at 0x150c41ba8>,\n",
       "  <matplotlib.axis.XTick at 0x150c47320>,\n",
       "  <matplotlib.axis.XTick at 0x150c47a58>,\n",
       "  <matplotlib.axis.XTick at 0x150c4c1d0>,\n",
       "  <matplotlib.axis.XTick at 0x150c4c908>,\n",
       "  <matplotlib.axis.XTick at 0x150c53080>,\n",
       "  <matplotlib.axis.XTick at 0x150c537b8>,\n",
       "  <matplotlib.axis.XTick at 0x150c53ef0>,\n",
       "  <matplotlib.axis.XTick at 0x150c59668>],\n",
       " <a list of 41 Text xticklabel objects>)"
      ]
     },
     "execution_count": 249,
     "metadata": {},
     "output_type": "execute_result"
    },
    {
     "data": {
      "text/plain": [
       "[<matplotlib.lines.Line2D at 0x150ff2cc0>]"
      ]
     },
     "execution_count": 249,
     "metadata": {},
     "output_type": "execute_result"
    },
    {
     "data": {
      "image/png": "[encoded data removed]",
      "text/plain": [
       "<matplotlib.figure.Figure at 0x14f8752e8>"
      ]
     },
     "metadata": {},
     "output_type": "display_data"
    }
   ],
   "source": [
    "elorange = 200\n",
    "\n",
    "data_trunc = data.loc[data['elo_diff'].between(-elorange, elorange)]\n",
    "grouped_trunc = data_trunc.groupby('elo_diff').mean()\n",
    "\n",
    "sns.set_style(\"whitegrid\")\n",
    "plt.figure(figsize=(15, 7))\n",
    "\n",
    "sns.barplot(y= 'win', \n",
    "            x=grouped_trunc.index,\n",
    "            data=grouped_trunc,\n",
    "            color='gray'\n",
    "           )\n",
    "\n",
    "plt.xlabel('Elo Difference', fontsize=13)\n",
    "plt.ylabel('Percent of Games Won', fontsize=13)\n",
    "plt.title('Win Percentages by Elo Difference', fontsize=15)\n",
    "plt.xticks(range(0, elorange*2 + int(elorange/20), int(elorange/20)), \n",
    "           range(-elorange, elorange + int(elorange/20), int(elorange/20)), \n",
    "           rotation=90)\n",
    "\n",
    "plt.plot(predictions[:,1],\n",
    "         color='black', \n",
    "         linewidth=3\n",
    "         )\n",
    "\n",
    "plt.show()"
   ]
  },
  {
   "cell_type": "code",
   "execution_count": null,
   "metadata": {
    "collapsed": true
   },
   "outputs": [],
   "source": []
  }
 ],
 "metadata": {
  "kernelspec": {
   "display_name": "Python 3",
   "language": "python",
   "name": "python3"
  },
  "language_info": {
   "codemirror_mode": {
    "name": "ipython",
    "version": 3
   },
   "file_extension": ".py",
   "mimetype": "text/x-python",
   "name": "python",
   "nbconvert_exporter": "python",
   "pygments_lexer": "ipython3",
   "version": "3.6.3"
  },
  "varInspector": {
   "cols": {
    "lenName": 16,
    "lenType": 16,
    "lenVar": 40
   },
   "kernels_config": {
    "python": {
     "delete_cmd_postfix": "",
     "delete_cmd_prefix": "del ",
     "library": "var_list.py",
     "varRefreshCmd": "print(var_dic_list())"
    },
    "r": {
     "delete_cmd_postfix": ") ",
     "delete_cmd_prefix": "rm(",
     "library": "var_list.r",
     "varRefreshCmd": "cat(var_dic_list()) "
    }
   },
   "types_to_exclude": [
    "module",
    "function",
    "builtin_function_or_method",
    "instance",
    "_Feature"
   ],
   "window_display": false
  }
 },
 "nbformat": 4,
 "nbformat_minor": 2
}
